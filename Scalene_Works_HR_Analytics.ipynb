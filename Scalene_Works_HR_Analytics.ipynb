{
  "nbformat": 4,
  "nbformat_minor": 0,
  "metadata": {
    "colab": {
      "name": "Scalene Works HR Analytics.ipynb",
      "provenance": []
    },
    "kernelspec": {
      "name": "python3",
      "display_name": "Python 3"
    }
  },
  "cells": [
    {
      "cell_type": "markdown",
      "metadata": {
        "id": "ytsHJitNvF7r",
        "colab_type": "text"
      },
      "source": [
        "**Loading the required packages**"
      ]
    },
    {
      "cell_type": "code",
      "metadata": {
        "id": "WGrA8xmgliKN",
        "colab_type": "code",
        "colab": {
          "base_uri": "https://localhost:8080/",
          "height": 70
        },
        "outputId": "126c57ec-558c-4e77-bd32-ce71a1953e4f"
      },
      "source": [
        "import pandas as pd\n",
        "import numpy as np\n",
        "\n",
        "\n",
        "import matplotlib.pyplot as plt\n",
        "import seaborn as sns\n",
        "\n",
        "from sklearn.model_selection import train_test_split\n",
        "\n",
        "\n",
        "from sklearn.preprocessing import OneHotEncoder\n",
        "\n",
        "from sklearn.ensemble import RandomForestClassifier\n",
        "\n",
        "\n",
        "from sklearn.metrics import confusion_matrix\n",
        "from sklearn.metrics import accuracy_score\n",
        "from sklearn.metrics import recall_score\n",
        "from sklearn.metrics import f1_score\n",
        "\n",
        "import warnings\n",
        "warnings.filterwarnings(\"ignore\")\n",
        "%matplotlib inline"
      ],
      "execution_count": 1,
      "outputs": [
        {
          "output_type": "stream",
          "text": [
            "/usr/local/lib/python3.6/dist-packages/statsmodels/tools/_testing.py:19: FutureWarning: pandas.util.testing is deprecated. Use the functions in the public API at pandas.testing instead.\n",
            "  import pandas.util.testing as tm\n"
          ],
          "name": "stderr"
        }
      ]
    },
    {
      "cell_type": "markdown",
      "metadata": {
        "id": "kDzO5-tnvOEI",
        "colab_type": "text"
      },
      "source": [
        "**Loading the data**"
      ]
    },
    {
      "cell_type": "code",
      "metadata": {
        "id": "gtqz5T1olm1L",
        "colab_type": "code",
        "colab": {
          "base_uri": "https://localhost:8080/",
          "height": 215
        },
        "outputId": "121687f5-2b10-410a-d67f-0fe0e275a364"
      },
      "source": [
        "hr = pd.read_csv('HR Scalene Works.csv')\n",
        "hr.head()"
      ],
      "execution_count": 2,
      "outputs": [
        {
          "output_type": "execute_result",
          "data": {
            "text/html": [
              "<div>\n",
              "<style scoped>\n",
              "    .dataframe tbody tr th:only-of-type {\n",
              "        vertical-align: middle;\n",
              "    }\n",
              "\n",
              "    .dataframe tbody tr th {\n",
              "        vertical-align: top;\n",
              "    }\n",
              "\n",
              "    .dataframe thead th {\n",
              "        text-align: right;\n",
              "    }\n",
              "</style>\n",
              "<table border=\"1\" class=\"dataframe\">\n",
              "  <thead>\n",
              "    <tr style=\"text-align: right;\">\n",
              "      <th></th>\n",
              "      <th>Candidate.Ref</th>\n",
              "      <th>DOJ.Extended</th>\n",
              "      <th>Duration.to.accept.offer</th>\n",
              "      <th>Notice.period</th>\n",
              "      <th>Offered.band</th>\n",
              "      <th>Pecent.hike.expected.in.CTC</th>\n",
              "      <th>Percent.hike.offered.in.CTC</th>\n",
              "      <th>Percent.difference.CTC</th>\n",
              "      <th>Joining.Bonus</th>\n",
              "      <th>Candidate.relocate.actual</th>\n",
              "      <th>Gender</th>\n",
              "      <th>Candidate.Source</th>\n",
              "      <th>Rex.in.Yrs</th>\n",
              "      <th>LOB</th>\n",
              "      <th>Location</th>\n",
              "      <th>Age</th>\n",
              "      <th>Status</th>\n",
              "    </tr>\n",
              "  </thead>\n",
              "  <tbody>\n",
              "    <tr>\n",
              "      <th>0</th>\n",
              "      <td>2110407</td>\n",
              "      <td>Yes</td>\n",
              "      <td>14</td>\n",
              "      <td>30</td>\n",
              "      <td>E2</td>\n",
              "      <td>-20.79</td>\n",
              "      <td>13.16</td>\n",
              "      <td>42.86</td>\n",
              "      <td>No</td>\n",
              "      <td>No</td>\n",
              "      <td>Female</td>\n",
              "      <td>Agency</td>\n",
              "      <td>7</td>\n",
              "      <td>ERS</td>\n",
              "      <td>Noida</td>\n",
              "      <td>34</td>\n",
              "      <td>1</td>\n",
              "    </tr>\n",
              "    <tr>\n",
              "      <th>1</th>\n",
              "      <td>2112635</td>\n",
              "      <td>No</td>\n",
              "      <td>18</td>\n",
              "      <td>30</td>\n",
              "      <td>E2</td>\n",
              "      <td>50.00</td>\n",
              "      <td>320.00</td>\n",
              "      <td>180.00</td>\n",
              "      <td>No</td>\n",
              "      <td>No</td>\n",
              "      <td>Male</td>\n",
              "      <td>Employee Referral</td>\n",
              "      <td>8</td>\n",
              "      <td>INFRA</td>\n",
              "      <td>Chennai</td>\n",
              "      <td>34</td>\n",
              "      <td>1</td>\n",
              "    </tr>\n",
              "    <tr>\n",
              "      <th>2</th>\n",
              "      <td>2112838</td>\n",
              "      <td>No</td>\n",
              "      <td>3</td>\n",
              "      <td>45</td>\n",
              "      <td>E2</td>\n",
              "      <td>42.84</td>\n",
              "      <td>42.84</td>\n",
              "      <td>0.00</td>\n",
              "      <td>No</td>\n",
              "      <td>No</td>\n",
              "      <td>Male</td>\n",
              "      <td>Agency</td>\n",
              "      <td>4</td>\n",
              "      <td>INFRA</td>\n",
              "      <td>Noida</td>\n",
              "      <td>27</td>\n",
              "      <td>1</td>\n",
              "    </tr>\n",
              "    <tr>\n",
              "      <th>3</th>\n",
              "      <td>2115021</td>\n",
              "      <td>No</td>\n",
              "      <td>26</td>\n",
              "      <td>30</td>\n",
              "      <td>E2</td>\n",
              "      <td>42.84</td>\n",
              "      <td>42.84</td>\n",
              "      <td>0.00</td>\n",
              "      <td>No</td>\n",
              "      <td>No</td>\n",
              "      <td>Male</td>\n",
              "      <td>Employee Referral</td>\n",
              "      <td>4</td>\n",
              "      <td>INFRA</td>\n",
              "      <td>Noida</td>\n",
              "      <td>34</td>\n",
              "      <td>1</td>\n",
              "    </tr>\n",
              "    <tr>\n",
              "      <th>4</th>\n",
              "      <td>2115125</td>\n",
              "      <td>Yes</td>\n",
              "      <td>1</td>\n",
              "      <td>120</td>\n",
              "      <td>E2</td>\n",
              "      <td>42.59</td>\n",
              "      <td>42.59</td>\n",
              "      <td>0.00</td>\n",
              "      <td>No</td>\n",
              "      <td>Yes</td>\n",
              "      <td>Male</td>\n",
              "      <td>Employee Referral</td>\n",
              "      <td>6</td>\n",
              "      <td>INFRA</td>\n",
              "      <td>Noida</td>\n",
              "      <td>34</td>\n",
              "      <td>1</td>\n",
              "    </tr>\n",
              "  </tbody>\n",
              "</table>\n",
              "</div>"
            ],
            "text/plain": [
              "   Candidate.Ref DOJ.Extended  Duration.to.accept.offer  ...  Location Age  Status\n",
              "0        2110407          Yes                        14  ...     Noida  34       1\n",
              "1        2112635           No                        18  ...   Chennai  34       1\n",
              "2        2112838           No                         3  ...     Noida  27       1\n",
              "3        2115021           No                        26  ...     Noida  34       1\n",
              "4        2115125          Yes                         1  ...     Noida  34       1\n",
              "\n",
              "[5 rows x 17 columns]"
            ]
          },
          "metadata": {
            "tags": []
          },
          "execution_count": 2
        }
      ]
    },
    {
      "cell_type": "code",
      "metadata": {
        "id": "GDkKJmISl8PB",
        "colab_type": "code",
        "colab": {
          "base_uri": "https://localhost:8080/",
          "height": 420
        },
        "outputId": "23f1123e-10ed-4d24-d589-456bc0e826d1"
      },
      "source": [
        "hr.info()"
      ],
      "execution_count": 3,
      "outputs": [
        {
          "output_type": "stream",
          "text": [
            "<class 'pandas.core.frame.DataFrame'>\n",
            "RangeIndex: 9011 entries, 0 to 9010\n",
            "Data columns (total 17 columns):\n",
            " #   Column                       Non-Null Count  Dtype  \n",
            "---  ------                       --------------  -----  \n",
            " 0   Candidate.Ref                9011 non-null   int64  \n",
            " 1   DOJ.Extended                 9011 non-null   object \n",
            " 2   Duration.to.accept.offer     9011 non-null   int64  \n",
            " 3   Notice.period                9011 non-null   int64  \n",
            " 4   Offered.band                 9011 non-null   object \n",
            " 5   Pecent.hike.expected.in.CTC  9011 non-null   float64\n",
            " 6   Percent.hike.offered.in.CTC  9011 non-null   float64\n",
            " 7   Percent.difference.CTC       9011 non-null   float64\n",
            " 8   Joining.Bonus                9011 non-null   object \n",
            " 9   Candidate.relocate.actual    9011 non-null   object \n",
            " 10  Gender                       9011 non-null   object \n",
            " 11  Candidate.Source             9011 non-null   object \n",
            " 12  Rex.in.Yrs                   9011 non-null   int64  \n",
            " 13  LOB                          9011 non-null   object \n",
            " 14  Location                     9011 non-null   object \n",
            " 15  Age                          9011 non-null   int64  \n",
            " 16  Status                       9011 non-null   int64  \n",
            "dtypes: float64(3), int64(6), object(8)\n",
            "memory usage: 1.2+ MB\n"
          ],
          "name": "stdout"
        }
      ]
    },
    {
      "cell_type": "markdown",
      "metadata": {
        "id": "h6hayyBZvV3S",
        "colab_type": "text"
      },
      "source": [
        "Lets remove the Candidate Reference, Expected hike, Offered Hike Columns "
      ]
    },
    {
      "cell_type": "code",
      "metadata": {
        "id": "CitBl1EomYgi",
        "colab_type": "code",
        "colab": {}
      },
      "source": [
        "hr = hr.iloc[:,1:17]"
      ],
      "execution_count": 4,
      "outputs": []
    },
    {
      "cell_type": "code",
      "metadata": {
        "id": "8EHG_2z-ox9Z",
        "colab_type": "code",
        "colab": {}
      },
      "source": [
        "hr = hr.drop('Pecent.hike.expected.in.CTC',axis=1)"
      ],
      "execution_count": 5,
      "outputs": []
    },
    {
      "cell_type": "code",
      "metadata": {
        "id": "ocRD_o-LpChC",
        "colab_type": "code",
        "colab": {}
      },
      "source": [
        "hr = hr.drop('Percent.hike.offered.in.CTC',axis=1)"
      ],
      "execution_count": 6,
      "outputs": []
    },
    {
      "cell_type": "code",
      "metadata": {
        "id": "lYL3jbIencO6",
        "colab_type": "code",
        "colab": {}
      },
      "source": [
        "train_x,test_x,train_y,test_y=train_test_split(hr.iloc[:,:-1],hr.iloc[:,-1],test_size=0.2,random_state=42)"
      ],
      "execution_count": 7,
      "outputs": []
    },
    {
      "cell_type": "markdown",
      "metadata": {
        "id": "qgWkdAHevqry",
        "colab_type": "text"
      },
      "source": [
        "Lets take the categorical variables and numerical features and perform one hot encoding to categorical variables"
      ]
    },
    {
      "cell_type": "code",
      "metadata": {
        "id": "pDUls3dIoHD8",
        "colab_type": "code",
        "colab": {}
      },
      "source": [
        "cat_fea = ['DOJ.Extended','Offered.band','Joining.Bonus','Candidate.relocate.actual','Gender','Candidate.Source','LOB','Location']\n",
        "num_fea = ['Duration.to.accept.offer','Notice.period','Percent.difference.CTC','Rex.in.Yrs','Age']"
      ],
      "execution_count": 8,
      "outputs": []
    },
    {
      "cell_type": "code",
      "metadata": {
        "id": "u1TdGa7hplGQ",
        "colab_type": "code",
        "colab": {}
      },
      "source": [
        "for col in cat_fea:\n",
        "    train_x[col] = train_x[col].astype('category')\n",
        "    \n",
        "for col in cat_fea:\n",
        "    test_x[col] = test_x[col].astype('category')"
      ],
      "execution_count": 9,
      "outputs": []
    },
    {
      "cell_type": "code",
      "metadata": {
        "id": "k8uvR5d7pwZw",
        "colab_type": "code",
        "colab": {}
      },
      "source": [
        "train_x_cat = train_x[cat_fea].copy()\n",
        "test_x_cat = test_x[cat_fea].copy()"
      ],
      "execution_count": 10,
      "outputs": []
    },
    {
      "cell_type": "code",
      "metadata": {
        "id": "Q0K55SB5qKYV",
        "colab_type": "code",
        "colab": {}
      },
      "source": [
        "ohe = OneHotEncoder(sparse=False)\n",
        "ohe.fit(train_x_cat)\n",
        "train_x_cat = pd.DataFrame(ohe.transform(train_x_cat),columns=ohe.get_feature_names(train_x_cat.columns))"
      ],
      "execution_count": 11,
      "outputs": []
    },
    {
      "cell_type": "code",
      "metadata": {
        "id": "bpkVjxnEq6An",
        "colab_type": "code",
        "colab": {}
      },
      "source": [
        "ohe.fit(test_x_cat)\n",
        "test_x_cat = pd.DataFrame(ohe.transform(test_x_cat),columns=ohe.get_feature_names(test_x_cat.columns))"
      ],
      "execution_count": 12,
      "outputs": []
    },
    {
      "cell_type": "code",
      "metadata": {
        "id": "l9jXYGB2rA28",
        "colab_type": "code",
        "colab": {
          "base_uri": "https://localhost:8080/",
          "height": 34
        },
        "outputId": "080f9dba-3607-4fc6-a68a-83c3b443e4e1"
      },
      "source": [
        "train_x[num_fea].shape"
      ],
      "execution_count": 13,
      "outputs": [
        {
          "output_type": "execute_result",
          "data": {
            "text/plain": [
              "(7208, 5)"
            ]
          },
          "metadata": {
            "tags": []
          },
          "execution_count": 13
        }
      ]
    },
    {
      "cell_type": "code",
      "metadata": {
        "id": "pULTijxdrFXO",
        "colab_type": "code",
        "colab": {}
      },
      "source": [
        "train_x_new = pd.concat([train_x[num_fea].reset_index(drop=True),train_x_cat],axis=1)\n",
        "test_x_new = pd.concat([test_x[num_fea].reset_index(drop=True),test_x_cat],axis=1)"
      ],
      "execution_count": 14,
      "outputs": []
    },
    {
      "cell_type": "code",
      "metadata": {
        "id": "1A4RYSp3riLP",
        "colab_type": "code",
        "colab": {
          "base_uri": "https://localhost:8080/",
          "height": 402
        },
        "outputId": "a25a9af5-109b-4855-d90a-879c01ec81bc"
      },
      "source": [
        "train_y = pd.DataFrame(train_y)\n",
        "\n",
        "ohe.fit(train_y)\n",
        "\n",
        "pd.DataFrame(ohe.transform(train_y),columns=ohe.get_feature_names(train_y.columns))"
      ],
      "execution_count": 15,
      "outputs": [
        {
          "output_type": "execute_result",
          "data": {
            "text/html": [
              "<div>\n",
              "<style scoped>\n",
              "    .dataframe tbody tr th:only-of-type {\n",
              "        vertical-align: middle;\n",
              "    }\n",
              "\n",
              "    .dataframe tbody tr th {\n",
              "        vertical-align: top;\n",
              "    }\n",
              "\n",
              "    .dataframe thead th {\n",
              "        text-align: right;\n",
              "    }\n",
              "</style>\n",
              "<table border=\"1\" class=\"dataframe\">\n",
              "  <thead>\n",
              "    <tr style=\"text-align: right;\">\n",
              "      <th></th>\n",
              "      <th>Status_0</th>\n",
              "      <th>Status_1</th>\n",
              "    </tr>\n",
              "  </thead>\n",
              "  <tbody>\n",
              "    <tr>\n",
              "      <th>0</th>\n",
              "      <td>0.0</td>\n",
              "      <td>1.0</td>\n",
              "    </tr>\n",
              "    <tr>\n",
              "      <th>1</th>\n",
              "      <td>0.0</td>\n",
              "      <td>1.0</td>\n",
              "    </tr>\n",
              "    <tr>\n",
              "      <th>2</th>\n",
              "      <td>0.0</td>\n",
              "      <td>1.0</td>\n",
              "    </tr>\n",
              "    <tr>\n",
              "      <th>3</th>\n",
              "      <td>0.0</td>\n",
              "      <td>1.0</td>\n",
              "    </tr>\n",
              "    <tr>\n",
              "      <th>4</th>\n",
              "      <td>0.0</td>\n",
              "      <td>1.0</td>\n",
              "    </tr>\n",
              "    <tr>\n",
              "      <th>...</th>\n",
              "      <td>...</td>\n",
              "      <td>...</td>\n",
              "    </tr>\n",
              "    <tr>\n",
              "      <th>7203</th>\n",
              "      <td>0.0</td>\n",
              "      <td>1.0</td>\n",
              "    </tr>\n",
              "    <tr>\n",
              "      <th>7204</th>\n",
              "      <td>0.0</td>\n",
              "      <td>1.0</td>\n",
              "    </tr>\n",
              "    <tr>\n",
              "      <th>7205</th>\n",
              "      <td>0.0</td>\n",
              "      <td>1.0</td>\n",
              "    </tr>\n",
              "    <tr>\n",
              "      <th>7206</th>\n",
              "      <td>0.0</td>\n",
              "      <td>1.0</td>\n",
              "    </tr>\n",
              "    <tr>\n",
              "      <th>7207</th>\n",
              "      <td>0.0</td>\n",
              "      <td>1.0</td>\n",
              "    </tr>\n",
              "  </tbody>\n",
              "</table>\n",
              "<p>7208 rows × 2 columns</p>\n",
              "</div>"
            ],
            "text/plain": [
              "      Status_0  Status_1\n",
              "0          0.0       1.0\n",
              "1          0.0       1.0\n",
              "2          0.0       1.0\n",
              "3          0.0       1.0\n",
              "4          0.0       1.0\n",
              "...        ...       ...\n",
              "7203       0.0       1.0\n",
              "7204       0.0       1.0\n",
              "7205       0.0       1.0\n",
              "7206       0.0       1.0\n",
              "7207       0.0       1.0\n",
              "\n",
              "[7208 rows x 2 columns]"
            ]
          },
          "metadata": {
            "tags": []
          },
          "execution_count": 15
        }
      ]
    },
    {
      "cell_type": "code",
      "metadata": {
        "id": "dxg9baY4ruqp",
        "colab_type": "code",
        "colab": {
          "base_uri": "https://localhost:8080/",
          "height": 195
        },
        "outputId": "02660e57-565c-49b1-a87e-77f7bce938bc"
      },
      "source": [
        "## Drop the first level\n",
        "\n",
        "ohe = OneHotEncoder(sparse=False,drop=\"first\")\n",
        "\n",
        "train_y = pd.DataFrame(train_y)\n",
        "\n",
        "ohe.fit(train_y)\n",
        "\n",
        "train_y = pd.DataFrame(ohe.transform(train_y),columns=ohe.get_feature_names(train_y.columns))\n",
        "\n",
        "train_y.head()"
      ],
      "execution_count": 16,
      "outputs": [
        {
          "output_type": "execute_result",
          "data": {
            "text/html": [
              "<div>\n",
              "<style scoped>\n",
              "    .dataframe tbody tr th:only-of-type {\n",
              "        vertical-align: middle;\n",
              "    }\n",
              "\n",
              "    .dataframe tbody tr th {\n",
              "        vertical-align: top;\n",
              "    }\n",
              "\n",
              "    .dataframe thead th {\n",
              "        text-align: right;\n",
              "    }\n",
              "</style>\n",
              "<table border=\"1\" class=\"dataframe\">\n",
              "  <thead>\n",
              "    <tr style=\"text-align: right;\">\n",
              "      <th></th>\n",
              "      <th>Status_1</th>\n",
              "    </tr>\n",
              "  </thead>\n",
              "  <tbody>\n",
              "    <tr>\n",
              "      <th>0</th>\n",
              "      <td>1.0</td>\n",
              "    </tr>\n",
              "    <tr>\n",
              "      <th>1</th>\n",
              "      <td>1.0</td>\n",
              "    </tr>\n",
              "    <tr>\n",
              "      <th>2</th>\n",
              "      <td>1.0</td>\n",
              "    </tr>\n",
              "    <tr>\n",
              "      <th>3</th>\n",
              "      <td>1.0</td>\n",
              "    </tr>\n",
              "    <tr>\n",
              "      <th>4</th>\n",
              "      <td>1.0</td>\n",
              "    </tr>\n",
              "  </tbody>\n",
              "</table>\n",
              "</div>"
            ],
            "text/plain": [
              "   Status_1\n",
              "0       1.0\n",
              "1       1.0\n",
              "2       1.0\n",
              "3       1.0\n",
              "4       1.0"
            ]
          },
          "metadata": {
            "tags": []
          },
          "execution_count": 16
        }
      ]
    },
    {
      "cell_type": "code",
      "metadata": {
        "id": "w3TZnYZer578",
        "colab_type": "code",
        "colab": {
          "base_uri": "https://localhost:8080/",
          "height": 195
        },
        "outputId": "a4353512-d1f3-4c5a-f660-23192d66fe73"
      },
      "source": [
        "test_y = pd.DataFrame(test_y)\n",
        "\n",
        "test_y = pd.DataFrame(ohe.transform(test_y),columns=ohe.get_feature_names(test_y.columns))\n",
        "\n",
        "test_y.head()"
      ],
      "execution_count": 17,
      "outputs": [
        {
          "output_type": "execute_result",
          "data": {
            "text/html": [
              "<div>\n",
              "<style scoped>\n",
              "    .dataframe tbody tr th:only-of-type {\n",
              "        vertical-align: middle;\n",
              "    }\n",
              "\n",
              "    .dataframe tbody tr th {\n",
              "        vertical-align: top;\n",
              "    }\n",
              "\n",
              "    .dataframe thead th {\n",
              "        text-align: right;\n",
              "    }\n",
              "</style>\n",
              "<table border=\"1\" class=\"dataframe\">\n",
              "  <thead>\n",
              "    <tr style=\"text-align: right;\">\n",
              "      <th></th>\n",
              "      <th>Status_1</th>\n",
              "    </tr>\n",
              "  </thead>\n",
              "  <tbody>\n",
              "    <tr>\n",
              "      <th>0</th>\n",
              "      <td>0.0</td>\n",
              "    </tr>\n",
              "    <tr>\n",
              "      <th>1</th>\n",
              "      <td>1.0</td>\n",
              "    </tr>\n",
              "    <tr>\n",
              "      <th>2</th>\n",
              "      <td>1.0</td>\n",
              "    </tr>\n",
              "    <tr>\n",
              "      <th>3</th>\n",
              "      <td>0.0</td>\n",
              "    </tr>\n",
              "    <tr>\n",
              "      <th>4</th>\n",
              "      <td>0.0</td>\n",
              "    </tr>\n",
              "  </tbody>\n",
              "</table>\n",
              "</div>"
            ],
            "text/plain": [
              "   Status_1\n",
              "0       0.0\n",
              "1       1.0\n",
              "2       1.0\n",
              "3       0.0\n",
              "4       0.0"
            ]
          },
          "metadata": {
            "tags": []
          },
          "execution_count": 17
        }
      ]
    },
    {
      "cell_type": "code",
      "metadata": {
        "id": "ozN1cgbysBOD",
        "colab_type": "code",
        "colab": {}
      },
      "source": [
        "train_x = train_x_new.copy()\n",
        "\n",
        "test_x = test_x_new.copy()"
      ],
      "execution_count": 18,
      "outputs": []
    },
    {
      "cell_type": "markdown",
      "metadata": {
        "id": "jPx2UCVNsWXX",
        "colab_type": "text"
      },
      "source": [
        "##**Random Forest Model**"
      ]
    },
    {
      "cell_type": "code",
      "metadata": {
        "id": "1YeBJx8TsGlc",
        "colab_type": "code",
        "colab": {
          "base_uri": "https://localhost:8080/",
          "height": 151
        },
        "outputId": "ca8ef950-42f1-4440-e5b3-e2839333bbfc"
      },
      "source": [
        "np.random.seed(1)\n",
        "rfc_50trees = RandomForestClassifier(n_estimators=50)\n",
        "rfc_50trees"
      ],
      "execution_count": 19,
      "outputs": [
        {
          "output_type": "execute_result",
          "data": {
            "text/plain": [
              "RandomForestClassifier(bootstrap=True, ccp_alpha=0.0, class_weight=None,\n",
              "                       criterion='gini', max_depth=None, max_features='auto',\n",
              "                       max_leaf_nodes=None, max_samples=None,\n",
              "                       min_impurity_decrease=0.0, min_impurity_split=None,\n",
              "                       min_samples_leaf=1, min_samples_split=2,\n",
              "                       min_weight_fraction_leaf=0.0, n_estimators=50,\n",
              "                       n_jobs=None, oob_score=False, random_state=None,\n",
              "                       verbose=0, warm_start=False)"
            ]
          },
          "metadata": {
            "tags": []
          },
          "execution_count": 19
        }
      ]
    },
    {
      "cell_type": "code",
      "metadata": {
        "id": "QAOG_zFzsfAA",
        "colab_type": "code",
        "colab": {
          "base_uri": "https://localhost:8080/",
          "height": 151
        },
        "outputId": "6e6a5418-5802-4633-8db7-787acdd1737a"
      },
      "source": [
        "rfc_50trees.fit(X = train_x,y = train_y)"
      ],
      "execution_count": 20,
      "outputs": [
        {
          "output_type": "execute_result",
          "data": {
            "text/plain": [
              "RandomForestClassifier(bootstrap=True, ccp_alpha=0.0, class_weight=None,\n",
              "                       criterion='gini', max_depth=None, max_features='auto',\n",
              "                       max_leaf_nodes=None, max_samples=None,\n",
              "                       min_impurity_decrease=0.0, min_impurity_split=None,\n",
              "                       min_samples_leaf=1, min_samples_split=2,\n",
              "                       min_weight_fraction_leaf=0.0, n_estimators=50,\n",
              "                       n_jobs=None, oob_score=False, random_state=None,\n",
              "                       verbose=0, warm_start=False)"
            ]
          },
          "metadata": {
            "tags": []
          },
          "execution_count": 20
        }
      ]
    },
    {
      "cell_type": "code",
      "metadata": {
        "id": "_SH8jXXfsiRF",
        "colab_type": "code",
        "colab": {}
      },
      "source": [
        "## Predict on train and test\n",
        "pred_train_50trees = rfc_50trees.predict(train_x)\n",
        "pred_test_50trees = rfc_50trees.predict(test_x)"
      ],
      "execution_count": 21,
      "outputs": []
    },
    {
      "cell_type": "code",
      "metadata": {
        "id": "x52o5Zx9sr2H",
        "colab_type": "code",
        "colab": {
          "base_uri": "https://localhost:8080/",
          "height": 67
        },
        "outputId": "c64f00ac-73d7-4420-d1ca-c7ad9828243e"
      },
      "source": [
        "## Evaluation metrics on Train\n",
        "\n",
        "print(\"Accuracy on train is:\",accuracy_score(train_y,pred_train_50trees))\n",
        "\n",
        "print(\"Recall on train is:\",recall_score(train_y,pred_train_50trees))\n",
        "\n",
        "print(\"F1 score on train is:\",f1_score(train_y,pred_train_50trees))\n"
      ],
      "execution_count": 22,
      "outputs": [
        {
          "output_type": "stream",
          "text": [
            "Accuracy on train is: 0.9956992230854605\n",
            "Recall on train is: 0.9988054607508532\n",
            "F1 score on train is: 0.9973587799267274\n"
          ],
          "name": "stdout"
        }
      ]
    },
    {
      "cell_type": "code",
      "metadata": {
        "id": "lhDuL1-xs1Aq",
        "colab_type": "code",
        "colab": {
          "base_uri": "https://localhost:8080/",
          "height": 67
        },
        "outputId": "08fed68b-f553-4a66-d6ca-18ba7e9668ce"
      },
      "source": [
        "## Evaluation metrics on Test\n",
        "\n",
        "print(\"Accuracy on test is:\",accuracy_score(test_y,pred_test_50trees))\n",
        "\n",
        "print(\"Recall on test is:\",recall_score(test_y,pred_test_50trees))\n",
        "\n",
        "print(\"F1 Score on test is:\",f1_score(test_y,pred_test_50trees))\n"
      ],
      "execution_count": 23,
      "outputs": [
        {
          "output_type": "stream",
          "text": [
            "Accuracy on test is: 0.819744869661675\n",
            "Recall on test is: 0.9624829467939973\n",
            "F1 Score on test is: 0.8967270416269463\n"
          ],
          "name": "stdout"
        }
      ]
    },
    {
      "cell_type": "code",
      "metadata": {
        "id": "MocyfU1uv9kx",
        "colab_type": "code",
        "colab": {
          "base_uri": "https://localhost:8080/",
          "height": 50
        },
        "outputId": "4f74d575-3b26-4544-d576-a3aa4614c0fd"
      },
      "source": [
        "confusion_matrix(train_y,pred_train_50trees)"
      ],
      "execution_count": 24,
      "outputs": [
        {
          "output_type": "execute_result",
          "data": {
            "text/plain": [
              "array([[1324,   24],\n",
              "       [   7, 5853]])"
            ]
          },
          "metadata": {
            "tags": []
          },
          "execution_count": 24
        }
      ]
    },
    {
      "cell_type": "code",
      "metadata": {
        "id": "437qUvYbs6Dx",
        "colab_type": "code",
        "colab": {
          "base_uri": "https://localhost:8080/",
          "height": 50
        },
        "outputId": "d9e4bfa9-c8b2-4a94-b206-7b691c7b3367"
      },
      "source": [
        "confusion_matrix(test_y,pred_test_50trees)"
      ],
      "execution_count": 25,
      "outputs": [
        {
          "output_type": "execute_result",
          "data": {
            "text/plain": [
              "array([[  67,  270],\n",
              "       [  55, 1411]])"
            ]
          },
          "metadata": {
            "tags": []
          },
          "execution_count": 25
        }
      ]
    },
    {
      "cell_type": "markdown",
      "metadata": {
        "id": "cO1rxF46tOYr",
        "colab_type": "text"
      },
      "source": [
        "##**Getting important features**"
      ]
    },
    {
      "cell_type": "code",
      "metadata": {
        "id": "BKpVK1Ttyck4",
        "colab_type": "code",
        "colab": {
          "base_uri": "https://localhost:8080/",
          "height": 67
        },
        "outputId": "5bf1da7f-d1dc-4b5f-9c52-a37cfe6aa0ae"
      },
      "source": [
        "hr[\"Status\"].value_counts(normalize=True)"
      ],
      "execution_count": 26,
      "outputs": [
        {
          "output_type": "execute_result",
          "data": {
            "text/plain": [
              "1    0.813006\n",
              "0    0.186994\n",
              "Name: Status, dtype: float64"
            ]
          },
          "metadata": {
            "tags": []
          },
          "execution_count": 26
        }
      ]
    },
    {
      "cell_type": "code",
      "metadata": {
        "id": "NXDFEcoyyOgn",
        "colab_type": "code",
        "colab": {
          "base_uri": "https://localhost:8080/",
          "height": 279
        },
        "outputId": "aef17dd2-bb1e-42d3-aa12-a48018996aa1"
      },
      "source": [
        "hr[\"Status\"].value_counts().plot(kind='bar')"
      ],
      "execution_count": 27,
      "outputs": [
        {
          "output_type": "execute_result",
          "data": {
            "text/plain": [
              "<matplotlib.axes._subplots.AxesSubplot at 0x7f75cdce05c0>"
            ]
          },
          "metadata": {
            "tags": []
          },
          "execution_count": 27
        },
        {
          "output_type": "display_data",
          "data": {
            "image/png": "[encoded data removed]",
            "text/plain": [
              "<Figure size 432x288 with 1 Axes>"
            ]
          },
          "metadata": {
            "tags": [],
            "needs_background": "light"
          }
        }
      ]
    },
    {
      "cell_type": "code",
      "metadata": {
        "id": "QrElVj-DuCXC",
        "colab_type": "code",
        "colab": {
          "base_uri": "https://localhost:8080/",
          "height": 457
        },
        "outputId": "2c0e4b1c-8da2-4384-d57f-085620ca59f4"
      },
      "source": [
        "rfc_weights = RandomForestClassifier(n_estimators = 20,max_depth=10,min_samples_leaf=4, class_weight = {0 : 0.88, 1 : 0.12})\n",
        "rfc_weights.fit(X = train_x, y = train_y)\n",
        "feat_importances = pd.Series(rfc_weights.feature_importances_, index = train_x.columns)\n",
        "feat_importances_ordered = feat_importances.nlargest(n=10)\n",
        "feat_importances_ordered.plot(kind='bar',color='green')"
      ],
      "execution_count": 28,
      "outputs": [
        {
          "output_type": "execute_result",
          "data": {
            "text/plain": [
              "<matplotlib.axes._subplots.AxesSubplot at 0x7f75cdc221d0>"
            ]
          },
          "metadata": {
            "tags": []
          },
          "execution_count": 28
        },
        {
          "output_type": "display_data",
          "data": {
            "image/png": "[encoded data removed]",
            "text/plain": [
              "<Figure size 432x288 with 1 Axes>"
            ]
          },
          "metadata": {
            "tags": [],
            "needs_background": "light"
          }
        }
      ]
    },
    {
      "cell_type": "markdown",
      "metadata": {
        "id": "GxnNQeBewvPn",
        "colab_type": "text"
      },
      "source": [
        "# **While presenting this data to a management we can point out the imporant features for predicting the response of candidate**"
      ]
    }
  ]
}